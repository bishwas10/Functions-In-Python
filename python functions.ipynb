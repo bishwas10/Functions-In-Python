{
 "cells": [
  {
   "cell_type": "code",
   "execution_count": 3,
   "id": "e4d44778-4e2a-4c50-896c-0d91d2c5f347",
   "metadata": {},
   "outputs": [
    {
     "name": "stdin",
     "output_type": "stream",
     "text": [
      "Enter the distance in kilometer 25\n"
     ]
    },
    {
     "name": "stdout",
     "output_type": "stream",
     "text": [
      "Enter the distance in miles is  15.53 miles\n"
     ]
    }
   ],
   "source": [
    "def main():\n",
    "    kilometers = float (input(\"Enter the distance in kilometer\"))\n",
    "    km_to_miles(kilometers)\n",
    "def km_to_miles(distance_in_km):\n",
    "    miles =distance_in_km * 0.6214\n",
    "    print(\"The distance in miles is \", format(miles, '.2f'), \"miles\")\n",
    "main()    \n",
    "    "
   ]
  },
  {
   "cell_type": "code",
   "execution_count": 4,
   "id": "3f359b71-70fd-48b1-8093-58f4d2303ed2",
   "metadata": {},
   "outputs": [
    {
     "name": "stdout",
     "output_type": "stream",
     "text": [
      "The sum : 30\n",
      "The difference : 10\n",
      "The Product: 200\n"
     ]
    }
   ],
   "source": [
    "def calculate(a,b):\n",
    "    print (\"The sum :\",a+b)\n",
    "    print (\"The difference :\", a-b)\n",
    "    print (\"The Product:\", a*b)\n",
    "calculate(20,10)    "
   ]
  },
  {
   "cell_type": "markdown",
   "id": "cfc8c790-936b-4fcb-a584-861df7ce5e47",
   "metadata": {},
   "source": [
    "Global and Local Variables\n"
   ]
  },
  {
   "cell_type": "code",
   "execution_count": 8,
   "id": "0abfec50-646c-47c1-a669-6c79940ffa96",
   "metadata": {},
   "outputs": [
    {
     "name": "stdout",
     "output_type": "stream",
     "text": [
      "20\n",
      "20\n"
     ]
    }
   ],
   "source": [
    "a = 10 #Global Variable\n",
    "def f1():\n",
    "    global a # to bring global variable to the function for the required modification\n",
    "    a = 20   # We are changing the value of the global variable\n",
    "    print(a)\n",
    "def f2():\n",
    "    print(a)\n",
    "f1()\n",
    "f2()"
   ]
  },
  {
   "cell_type": "code",
   "execution_count": null,
   "id": "f28136e0-3e7a-43dc-810c-5c5874e0a8a9",
   "metadata": {},
   "outputs": [],
   "source": []
  }
 ],
 "metadata": {
  "kernelspec": {
   "display_name": "Python 3 (ipykernel)",
   "language": "python",
   "name": "python3"
  },
  "language_info": {
   "codemirror_mode": {
    "name": "ipython",
    "version": 3
   },
   "file_extension": ".py",
   "mimetype": "text/x-python",
   "name": "python",
   "nbconvert_exporter": "python",
   "pygments_lexer": "ipython3",
   "version": "3.11.7"
  }
 },
 "nbformat": 4,
 "nbformat_minor": 5
}
